{
 "cells": [
  {
   "cell_type": "markdown",
   "metadata": {},
   "source": [
    "# WeatherPy\n",
    "----\n",
    "\n",
    "#### Note\n",
    "* Instructions have been included for each segment. You do not have to follow them exactly, but they are included to help you think through the steps."
   ]
  },
  {
   "cell_type": "code",
   "execution_count": 1,
   "metadata": {
    "scrolled": true
   },
   "outputs": [],
   "source": [
    "# Dependencies and Setup\n",
    "import matplotlib.pyplot as plt\n",
    "import pandas as pd\n",
    "import numpy as np\n",
    "import requests\n",
    "import time\n",
    "import scipy.stats as st\n",
    "from scipy.stats import linregress\n",
    "\n",
    "# Import API key\n",
    "from api_keys import weather_api_key\n",
    "\n",
    "# Incorporated citipy to determine city based on latitude and longitude\n",
    "from citipy import citipy\n",
    "\n",
    "# Output File (CSV)\n",
    "output_data_file = \"../output_data/cities.csv\"\n",
    "\n",
    "# Range of latitudes and longitudes\n",
    "lat_range = (-90, 90)\n",
    "lng_range = (-180, 180)"
   ]
  },
  {
   "cell_type": "code",
   "execution_count": 39,
   "metadata": {},
   "outputs": [
    {
     "data": {
      "text/html": [
       "<div>\n",
       "<style scoped>\n",
       "    .dataframe tbody tr th:only-of-type {\n",
       "        vertical-align: middle;\n",
       "    }\n",
       "\n",
       "    .dataframe tbody tr th {\n",
       "        vertical-align: top;\n",
       "    }\n",
       "\n",
       "    .dataframe thead th {\n",
       "        text-align: right;\n",
       "    }\n",
       "</style>\n",
       "<table border=\"1\" class=\"dataframe\">\n",
       "  <thead>\n",
       "    <tr style=\"text-align: right;\">\n",
       "      <th></th>\n",
       "      <th>City_ID</th>\n",
       "      <th>City</th>\n",
       "      <th>Cloudiness</th>\n",
       "      <th>Country</th>\n",
       "      <th>Date</th>\n",
       "      <th>Humidity</th>\n",
       "      <th>Lat</th>\n",
       "      <th>Lng</th>\n",
       "      <th>Max Temp</th>\n",
       "      <th>Wind Speed</th>\n",
       "    </tr>\n",
       "  </thead>\n",
       "  <tbody>\n",
       "    <tr>\n",
       "      <th>0</th>\n",
       "      <td>0</td>\n",
       "      <td>ostrovnoy</td>\n",
       "      <td>2</td>\n",
       "      <td>RU</td>\n",
       "      <td>1558378754</td>\n",
       "      <td>72</td>\n",
       "      <td>68.05</td>\n",
       "      <td>39.51</td>\n",
       "      <td>37.50</td>\n",
       "      <td>7.16</td>\n",
       "    </tr>\n",
       "    <tr>\n",
       "      <th>1</th>\n",
       "      <td>1</td>\n",
       "      <td>mahebourg</td>\n",
       "      <td>75</td>\n",
       "      <td>MU</td>\n",
       "      <td>1558378503</td>\n",
       "      <td>74</td>\n",
       "      <td>-20.41</td>\n",
       "      <td>57.70</td>\n",
       "      <td>78.80</td>\n",
       "      <td>11.41</td>\n",
       "    </tr>\n",
       "    <tr>\n",
       "      <th>2</th>\n",
       "      <td>2</td>\n",
       "      <td>qaanaaq</td>\n",
       "      <td>25</td>\n",
       "      <td>GL</td>\n",
       "      <td>1558378755</td>\n",
       "      <td>73</td>\n",
       "      <td>77.48</td>\n",
       "      <td>-69.36</td>\n",
       "      <td>22.20</td>\n",
       "      <td>2.37</td>\n",
       "    </tr>\n",
       "    <tr>\n",
       "      <th>3</th>\n",
       "      <td>3</td>\n",
       "      <td>zhuhai</td>\n",
       "      <td>0</td>\n",
       "      <td>CN</td>\n",
       "      <td>1558378755</td>\n",
       "      <td>39</td>\n",
       "      <td>40.71</td>\n",
       "      <td>112.04</td>\n",
       "      <td>44.60</td>\n",
       "      <td>4.47</td>\n",
       "    </tr>\n",
       "    <tr>\n",
       "      <th>4</th>\n",
       "      <td>4</td>\n",
       "      <td>cape town</td>\n",
       "      <td>20</td>\n",
       "      <td>ZA</td>\n",
       "      <td>1558378755</td>\n",
       "      <td>76</td>\n",
       "      <td>-33.93</td>\n",
       "      <td>18.42</td>\n",
       "      <td>55.99</td>\n",
       "      <td>8.05</td>\n",
       "    </tr>\n",
       "    <tr>\n",
       "      <th>...</th>\n",
       "      <td>...</td>\n",
       "      <td>...</td>\n",
       "      <td>...</td>\n",
       "      <td>...</td>\n",
       "      <td>...</td>\n",
       "      <td>...</td>\n",
       "      <td>...</td>\n",
       "      <td>...</td>\n",
       "      <td>...</td>\n",
       "      <td>...</td>\n",
       "    </tr>\n",
       "    <tr>\n",
       "      <th>543</th>\n",
       "      <td>543</td>\n",
       "      <td>yabrud</td>\n",
       "      <td>0</td>\n",
       "      <td>SY</td>\n",
       "      <td>1558378840</td>\n",
       "      <td>32</td>\n",
       "      <td>33.97</td>\n",
       "      <td>36.66</td>\n",
       "      <td>80.60</td>\n",
       "      <td>8.05</td>\n",
       "    </tr>\n",
       "    <tr>\n",
       "      <th>544</th>\n",
       "      <td>544</td>\n",
       "      <td>paraiso</td>\n",
       "      <td>5</td>\n",
       "      <td>MX</td>\n",
       "      <td>1558378898</td>\n",
       "      <td>4</td>\n",
       "      <td>24.01</td>\n",
       "      <td>-104.61</td>\n",
       "      <td>84.20</td>\n",
       "      <td>16.11</td>\n",
       "    </tr>\n",
       "    <tr>\n",
       "      <th>545</th>\n",
       "      <td>545</td>\n",
       "      <td>veraval</td>\n",
       "      <td>0</td>\n",
       "      <td>FR</td>\n",
       "      <td>1558378898</td>\n",
       "      <td>62</td>\n",
       "      <td>49.65</td>\n",
       "      <td>0.71</td>\n",
       "      <td>61.00</td>\n",
       "      <td>8.05</td>\n",
       "    </tr>\n",
       "    <tr>\n",
       "      <th>546</th>\n",
       "      <td>546</td>\n",
       "      <td>novyy urgal</td>\n",
       "      <td>100</td>\n",
       "      <td>RU</td>\n",
       "      <td>1558378899</td>\n",
       "      <td>93</td>\n",
       "      <td>51.07</td>\n",
       "      <td>132.56</td>\n",
       "      <td>49.74</td>\n",
       "      <td>2.68</td>\n",
       "    </tr>\n",
       "    <tr>\n",
       "      <th>547</th>\n",
       "      <td>547</td>\n",
       "      <td>tongren</td>\n",
       "      <td>4</td>\n",
       "      <td>CN</td>\n",
       "      <td>1558378899</td>\n",
       "      <td>64</td>\n",
       "      <td>27.72</td>\n",
       "      <td>109.18</td>\n",
       "      <td>55.86</td>\n",
       "      <td>2.84</td>\n",
       "    </tr>\n",
       "  </tbody>\n",
       "</table>\n",
       "<p>548 rows × 10 columns</p>\n",
       "</div>"
      ],
      "text/plain": [
       "     City_ID         City  Cloudiness Country        Date  Humidity    Lat  \\\n",
       "0          0    ostrovnoy           2      RU  1558378754        72  68.05   \n",
       "1          1    mahebourg          75      MU  1558378503        74 -20.41   \n",
       "2          2      qaanaaq          25      GL  1558378755        73  77.48   \n",
       "3          3       zhuhai           0      CN  1558378755        39  40.71   \n",
       "4          4    cape town          20      ZA  1558378755        76 -33.93   \n",
       "..       ...          ...         ...     ...         ...       ...    ...   \n",
       "543      543       yabrud           0      SY  1558378840        32  33.97   \n",
       "544      544      paraiso           5      MX  1558378898         4  24.01   \n",
       "545      545      veraval           0      FR  1558378898        62  49.65   \n",
       "546      546  novyy urgal         100      RU  1558378899        93  51.07   \n",
       "547      547      tongren           4      CN  1558378899        64  27.72   \n",
       "\n",
       "        Lng  Max Temp  Wind Speed  \n",
       "0     39.51     37.50        7.16  \n",
       "1     57.70     78.80       11.41  \n",
       "2    -69.36     22.20        2.37  \n",
       "3    112.04     44.60        4.47  \n",
       "4     18.42     55.99        8.05  \n",
       "..      ...       ...         ...  \n",
       "543   36.66     80.60        8.05  \n",
       "544 -104.61     84.20       16.11  \n",
       "545    0.71     61.00        8.05  \n",
       "546  132.56     49.74        2.68  \n",
       "547  109.18     55.86        2.84  \n",
       "\n",
       "[548 rows x 10 columns]"
      ]
     },
     "execution_count": 39,
     "metadata": {},
     "output_type": "execute_result"
    }
   ],
   "source": [
    "# Read the city data\n",
    "city_df = pd.read_csv(output_data_file)\n",
    "city_df"
   ]
  },
  {
   "cell_type": "markdown",
   "metadata": {},
   "source": [
    "## Generate Cities List"
   ]
  },
  {
   "cell_type": "code",
   "execution_count": 3,
   "metadata": {},
   "outputs": [
    {
     "data": {
      "text/plain": [
       "592"
      ]
     },
     "execution_count": 3,
     "metadata": {},
     "output_type": "execute_result"
    }
   ],
   "source": [
    "# List for holding lat_lngs and cities\n",
    "lat_lngs = []\n",
    "cities = []\n",
    "\n",
    "# Create a set of random lat and lng combinations\n",
    "lats = np.random.uniform(low=-90.000, high=90.000, size=1500)\n",
    "lngs = np.random.uniform(low=-180.000, high=180.000, size=1500)\n",
    "lat_lngs = zip(lats, lngs)\n",
    "\n",
    "# Identify nearest city for each lat, lng combination\n",
    "for lat_lng in lat_lngs:\n",
    "    city = citipy.nearest_city(lat_lng[0], lat_lng[1]).city_name\n",
    "    \n",
    "    # If the city is unique, then add it to a our cities list\n",
    "    if city not in cities:\n",
    "        cities.append(city)\n",
    "\n",
    "# Print the city count to confirm sufficient count\n",
    "len(cities)"
   ]
  },
  {
   "cell_type": "markdown",
   "metadata": {},
   "source": [
    "### Perform API Calls\n",
    "* Perform a weather check on each city using a series of successive API calls.\n",
    "* Include a print log of each city as it'sbeing processed (with the city number and city name).\n"
   ]
  },
  {
   "cell_type": "code",
   "execution_count": 4,
   "metadata": {},
   "outputs": [],
   "source": [
    "# Save config information.\n",
    "url = \"http://api.openweathermap.org/data/2.5/weather?\"\n",
    "units = \"imperial\"\n",
    "\n",
    "# Build partial query URL\n",
    "query_url = f\"{url}appid={weather_api_key}&units={units}&q=\""
   ]
  },
  {
   "cell_type": "code",
   "execution_count": 5,
   "metadata": {},
   "outputs": [
    {
     "name": "stdout",
     "output_type": "stream",
     "text": [
      "dikson found! Appending stats\n",
      "hermanus found! Appending stats\n",
      "mataura found! Appending stats\n",
      "bambous virieux found! Appending stats\n",
      "rikitea found! Appending stats\n",
      "lorengau found! Appending stats\n",
      "cabo san lucas found! Appending stats\n",
      "tambura found! Appending stats\n",
      "thompson found! Appending stats\n",
      "ushuaia found! Appending stats\n",
      "busselton found! Appending stats\n",
      "sioux lookout found! Appending stats\n",
      "chokurdakh found! Appending stats\n",
      "ketchikan found! Appending stats\n",
      "cestas found! Appending stats\n",
      "avarua found! Appending stats\n",
      "karratha found! Appending stats\n",
      "coquimbo found! Appending stats\n",
      "upernavik found! Appending stats\n",
      "east london found! Appending stats\n",
      "cape town found! Appending stats\n",
      "koupela found! Appending stats\n",
      "hilo found! Appending stats\n",
      "iqaluit found! Appending stats\n",
      "yellowknife found! Appending stats\n",
      "the valley found! Appending stats\n",
      "puerto ayora found! Appending stats\n",
      "vaini found! Appending stats\n",
      "beringovskiy found! Appending stats\n",
      "codrington found! Appending stats\n",
      "khulo found! Appending stats\n",
      "meulaboh found! Appending stats\n",
      "markova found! Appending stats\n",
      "igarka found! Appending stats\n",
      "kapaa found! Appending stats\n",
      "georgetown found! Appending stats\n",
      "katsuura found! Appending stats\n",
      "butaritari found! Appending stats\n",
      "bethel found! Appending stats\n",
      "yatou found! Appending stats\n",
      "cherskiy found! Appending stats\n",
      "kodiak found! Appending stats\n",
      "chuy found! Appending stats\n",
      "arraial do cabo found! Appending stats\n",
      "airai found! Appending stats\n",
      "tuatapere found! Appending stats\n",
      "port elizabeth found! Appending stats\n",
      "buzmeyin found! Appending stats\n",
      "bonavista found! Appending stats\n",
      "hithadhoo found! Appending stats\n",
      "touros found! Appending stats\n",
      "haines junction found! Appending stats\n",
      "belaya gora found! Appending stats\n",
      "ambilobe found! Appending stats\n",
      "bela found! Appending stats\n",
      "hobart found! Appending stats\n",
      "santo angelo found! Appending stats\n",
      "yaring found! Appending stats\n",
      "kununurra found! Appending stats\n",
      "parabel found! Appending stats\n",
      "razdolinsk found! Appending stats\n",
      "coos bay found! Appending stats\n",
      "keshabpur found! Appending stats\n",
      "mitsamiouli found! Appending stats\n",
      "waddan found! Appending stats\n",
      "carnarvon found! Appending stats\n",
      "tasiilaq found! Appending stats\n",
      "gejiu found! Appending stats\n",
      "bismil found! Appending stats\n",
      "albany found! Appending stats\n",
      "rocha found! Appending stats\n",
      "jahanabad found! Appending stats\n",
      "saint-philippe found! Appending stats\n",
      "viedma found! Appending stats\n",
      "college found! Appending stats\n",
      "havelock found! Appending stats\n",
      "new norfolk found! Appending stats\n",
      "seinajoki found! Appending stats\n",
      "leningradskiy found! Appending stats\n",
      "bengkulu found! Appending stats\n",
      "namatanai found! Appending stats\n",
      "bredasdorp found! Appending stats\n",
      "sao joao da barra found! Appending stats\n",
      "necochea found! Appending stats\n",
      "souillac found! Appending stats\n",
      "punta arenas found! Appending stats\n",
      "launceston found! Appending stats\n",
      "atuona found! Appending stats\n",
      "san pedro found! Appending stats\n",
      "nikolskoye found! Appending stats\n",
      "linhares found! Appending stats\n",
      "henties bay found! Appending stats\n",
      "longyearbyen found! Appending stats\n",
      "fortuna found! Appending stats\n",
      "nova olimpia found! Appending stats\n",
      "aksha found! Appending stats\n",
      "nouadhibou found! Appending stats\n",
      "acari found! Appending stats\n",
      "manokwari found! Appending stats\n",
      "hualmay found! Appending stats\n",
      "jamestown found! Appending stats\n",
      "ribeira grande found! Appending stats\n",
      "port alfred found! Appending stats\n",
      "talakan found! Appending stats\n",
      "quatre cocos found! Appending stats\n",
      "vila franca do campo found! Appending stats\n",
      "grand gaube found! Appending stats\n",
      "ancud found! Appending stats\n",
      "vao found! Appending stats\n",
      "lichtenburg found! Appending stats\n",
      "kaitangata found! Appending stats\n",
      "marrakesh found! Appending stats\n",
      "manggar found! Appending stats\n",
      "bluff found! Appending stats\n",
      "ambovombe found! Appending stats\n",
      "rio gallegos found! Appending stats\n",
      "ballina found! Appending stats\n",
      "qaanaaq found! Appending stats\n",
      "norman wells found! Appending stats\n",
      "owando found! Appending stats\n",
      "inuvik found! Appending stats\n",
      "maun found! Appending stats\n",
      "yalkhoy-mokhk found! Appending stats\n",
      "kuruman found! Appending stats\n",
      "matay found! Appending stats\n",
      "samarai found! Appending stats\n",
      "auki found! Appending stats\n",
      "ketou found! Appending stats\n",
      "tuktoyaktuk found! Appending stats\n",
      "bella vista found! Appending stats\n",
      "inirida found! Appending stats\n",
      "narsaq found! Appending stats\n",
      "mnogovershinnyy found! Appending stats\n",
      "hamilton found! Appending stats\n",
      "severo-kurilsk found! Appending stats\n",
      "miyako found! Appending stats\n",
      "sedalia found! Appending stats\n",
      "japura found! Appending stats\n",
      "kavieng found! Appending stats\n",
      "alta floresta found! Appending stats\n",
      "paita found! Appending stats\n",
      "lima found! Appending stats\n",
      "klyuchi found! Appending stats\n",
      "lagos found! Appending stats\n",
      "matara found! Appending stats\n",
      "pisco found! Appending stats\n",
      "constitucion found! Appending stats\n",
      "san cristobal found! Appending stats\n",
      "bhaderwah found! Appending stats\n",
      "laguna found! Appending stats\n",
      "solnechnyy found! Appending stats\n",
      "hami found! Appending stats\n",
      "sitka found! Appending stats\n",
      "kahului found! Appending stats\n",
      "castro found! Appending stats\n",
      "lancaster found! Appending stats\n",
      "nara found! Appending stats\n",
      "tornio found! Appending stats\n",
      "san jose found! Appending stats\n",
      "vengerovo found! Appending stats\n",
      "antalaha found! Appending stats\n",
      "wonthaggi found! Appending stats\n",
      "colares found! Appending stats\n",
      "eldorado found! Appending stats\n",
      "saint george found! Appending stats\n",
      "toora-khem found! Appending stats\n",
      "preston found! Appending stats\n",
      "barrow found! Appending stats\n",
      "ayan found! Appending stats\n",
      "verkhnechusovskiye gorodki found! Appending stats\n",
      "luderitz found! Appending stats\n",
      "dalbandin found! Appending stats\n",
      "tezu found! Appending stats\n",
      "varhaug found! Appending stats\n",
      "swellendam found! Appending stats\n",
      "saskylakh found! Appending stats\n",
      "udachnyy found! Appending stats\n",
      "mongoumba found! Appending stats\n",
      "aljezur found! Appending stats\n",
      "sola found! Appending stats\n",
      "palmer found! Appending stats\n",
      "mayo found! Appending stats\n",
      "manga found! Appending stats\n",
      "talnakh found! Appending stats\n",
      "la palma found! Appending stats\n",
      "victoria found! Appending stats\n",
      "torbay found! Appending stats\n",
      "porbandar found! Appending stats\n",
      "neyvo-shaytanskiy found! Appending stats\n",
      "kiama found! Appending stats\n",
      "samana found! Appending stats\n",
      "vardo found! Appending stats\n",
      "candolim found! Appending stats\n",
      "punta alta found! Appending stats\n",
      "sijunjung found! Appending stats\n",
      "fort nelson found! Appending stats\n",
      "prince rupert found! Appending stats\n",
      "beyla found! Appending stats\n",
      "port augusta found! Appending stats\n",
      "salinas found! Appending stats\n",
      "lompoc found! Appending stats\n",
      "te anau found! Appending stats\n",
      "antofagasta found! Appending stats\n",
      "ilulissat found! Appending stats\n",
      "kirakira found! Appending stats\n",
      "ucluelet found! Appending stats\n",
      "banda aceh found! Appending stats\n",
      "ternate found! Appending stats\n",
      "chukhloma found! Appending stats\n",
      "huarmey found! Appending stats\n",
      "mildura found! Appending stats\n",
      "treinta y tres found! Appending stats\n",
      "portales found! Appending stats\n",
      "mar del plata found! Appending stats\n",
      "kavaratti found! Appending stats\n",
      "berlevag found! Appending stats\n",
      "aykhal found! Appending stats\n",
      "khatanga found! Appending stats\n",
      "ossora found! Appending stats\n",
      "mount gambier found! Appending stats\n",
      "komsomolskiy found! Appending stats\n",
      "provideniya found! Appending stats\n",
      "znamensk found! Appending stats\n",
      "skerries found! Appending stats\n",
      "arambagh found! Appending stats\n",
      "zdvinsk found! Appending stats\n",
      "patos de minas found! Appending stats\n",
      "grindavik found! Appending stats\n",
      "jiujiang found! Appending stats\n",
      "popondetta found! Appending stats\n",
      "lagoa found! Appending stats\n",
      "cururupu found! Appending stats\n",
      "jumla found! Appending stats\n",
      "fereydun kenar found! Appending stats\n",
      "olafsvik found! Appending stats\n",
      "bijar found! Appending stats\n",
      "kourou found! Appending stats\n",
      "crateus found! Appending stats\n",
      "saldanha found! Appending stats\n",
      "hofn found! Appending stats\n",
      "edinburg found! Appending stats\n",
      "qaqortoq found! Appending stats\n",
      "alzamay found! Appending stats\n",
      "lata found! Appending stats\n",
      "sai buri found! Appending stats\n",
      "mangrol found! Appending stats\n",
      "teya found! Appending stats\n",
      "jutai found! Appending stats\n",
      "gouda found! Appending stats\n",
      "kaeo found! Appending stats\n",
      "taoudenni found! Appending stats\n",
      "edgewater found! Appending stats\n",
      "najran found! Appending stats\n",
      "severodvinsk found! Appending stats\n",
      "vila velha found! Appending stats\n"
     ]
    },
    {
     "name": "stdout",
     "output_type": "stream",
     "text": [
      "ponta do sol found! Appending stats\n",
      "akureyri found! Appending stats\n",
      "kenai found! Appending stats\n",
      "say found! Appending stats\n",
      "gornopravdinsk found! Appending stats\n",
      "vila found! Appending stats\n",
      "rio grande found! Appending stats\n",
      "buchanan found! Appending stats\n",
      "whitehorse found! Appending stats\n",
      "corinto found! Appending stats\n",
      "muromtsevo found! Appending stats\n",
      "tairua found! Appending stats\n",
      "warwick found! Appending stats\n",
      "byron bay found! Appending stats\n",
      "sao filipe found! Appending stats\n",
      "boksitogorsk found! Appending stats\n",
      "yunhe found! Appending stats\n",
      "adre found! Appending stats\n",
      "maragogi found! Appending stats\n",
      "natal found! Appending stats\n",
      "port lincoln found! Appending stats\n",
      "dingle found! Appending stats\n",
      "kashi found! Appending stats\n",
      "honiara found! Appending stats\n",
      "high level found! Appending stats\n",
      "santa cruz del norte found! Appending stats\n",
      "altay found! Appending stats\n",
      "buala found! Appending stats\n",
      "lebu found! Appending stats\n",
      "havoysund found! Appending stats\n",
      "palauig found! Appending stats\n",
      "tucuman found! Appending stats\n",
      "shimoda found! Appending stats\n",
      "dmytrivka found! Appending stats\n",
      "port-gentil found! Appending stats\n",
      "gold coast found! Appending stats\n",
      "niquero found! Appending stats\n",
      "anstruther found! Appending stats\n",
      "poum found! Appending stats\n",
      "hakui found! Appending stats\n",
      "tateyama found! Appending stats\n",
      "botou found! Appending stats\n",
      "nanortalik found! Appending stats\n",
      "campana found! Appending stats\n",
      "nacala found! Appending stats\n",
      "krasnyy klyuch found! Appending stats\n",
      "derzhavinsk found! Appending stats\n",
      "bay roberts found! Appending stats\n",
      "salamiyah found! Appending stats\n",
      "fairmount found! Appending stats\n",
      "mahebourg found! Appending stats\n",
      "oussouye found! Appending stats\n",
      "bilibino found! Appending stats\n",
      "atambua found! Appending stats\n",
      "marawi found! Appending stats\n",
      "sistranda found! Appending stats\n",
      "bandarbeyla found! Appending stats\n",
      "chapais found! Appending stats\n",
      "charters towers found! Appending stats\n",
      "vangaindrano found! Appending stats\n",
      "nome found! Appending stats\n",
      "vostok found! Appending stats\n",
      "garmsar found! Appending stats\n",
      "bin qirdan found! Appending stats\n",
      "elko found! Appending stats\n",
      "synya found! Appending stats\n",
      "ocos found! Appending stats\n",
      "petropavlovsk-kamchatskiy found! Appending stats\n",
      "lekoni found! Appending stats\n",
      "buraydah found! Appending stats\n",
      "comodoro rivadavia found! Appending stats\n",
      "teguise found! Appending stats\n",
      "marzuq found! Appending stats\n",
      "ashland found! Appending stats\n",
      "obo found! Appending stats\n",
      "chapleau found! Appending stats\n",
      "buluang found! Appending stats\n",
      "uncia found! Appending stats\n",
      "aklavik found! Appending stats\n",
      "san benito abad found! Appending stats\n",
      "isiro found! Appending stats\n",
      "brae found! Appending stats\n",
      "clarence town found! Appending stats\n",
      "santa ines found! Appending stats\n",
      "pangnirtung found! Appending stats\n",
      "hobyo found! Appending stats\n",
      "nhulunbuy found! Appending stats\n",
      "guanare found! Appending stats\n",
      "fare found! Appending stats\n",
      "pevek found! Appending stats\n",
      "nimbahera found! Appending stats\n",
      "port hedland found! Appending stats\n",
      "lazaro cardenas found! Appending stats\n",
      "clyde river found! Appending stats\n",
      "chicama found! Appending stats\n",
      "maniitsoq found! Appending stats\n",
      "vysokogornyy found! Appending stats\n",
      "cidreira found! Appending stats\n",
      "husavik found! Appending stats\n",
      "batemans bay found! Appending stats\n",
      "ornskoldsvik found! Appending stats\n",
      "tamiahua found! Appending stats\n",
      "sao gabriel da cachoeira found! Appending stats\n",
      "gorontalo found! Appending stats\n",
      "faanui found! Appending stats\n",
      "sao joao batista found! Appending stats\n",
      "fairview found! Appending stats\n",
      "darhan found! Appending stats\n",
      "san jeronimo found! Appending stats\n",
      "nuuk found! Appending stats\n",
      "mayskiy found! Appending stats\n",
      "avera found! Appending stats\n",
      "flin flon found! Appending stats\n",
      "zhigansk found! Appending stats\n",
      "yarkovo found! Appending stats\n",
      "broome found! Appending stats\n",
      "padang found! Appending stats\n",
      "taft found! Appending stats\n",
      "wanning found! Appending stats\n",
      "mattru found! Appending stats\n",
      "santa catalina found! Appending stats\n",
      "kosonsoy found! Appending stats\n",
      "portland found! Appending stats\n",
      "sargatskoye found! Appending stats\n",
      "meadow lake found! Appending stats\n",
      "wanaka found! Appending stats\n",
      "ceske velenice found! Appending stats\n",
      "ust-omchug found! Appending stats\n",
      "hasaki found! Appending stats\n",
      "nyimba found! Appending stats\n",
      "tselinnoye found! Appending stats\n",
      "rosario oeste found! Appending stats\n",
      "eyl found! Appending stats\n",
      "kandi found! Appending stats\n",
      "esperance found! Appending stats\n",
      "tiksi found! Appending stats\n",
      "eureka found! Appending stats\n",
      "svetlogorsk found! Appending stats\n",
      "fairbanks found! Appending stats\n",
      "manzanillo found! Appending stats\n",
      "kaupanger found! Appending stats\n",
      "vaasa found! Appending stats\n",
      "perth found! Appending stats\n",
      "rock springs found! Appending stats\n",
      "verkhoyansk found! Appending stats\n",
      "coihaique found! Appending stats\n",
      "mulege found! Appending stats\n",
      "faya found! Appending stats\n",
      "khandyga found! Appending stats\n",
      "sao felix do xingu found! Appending stats\n",
      "saint anthony found! Appending stats\n",
      "nelson bay found! Appending stats\n",
      "margate found! Appending stats\n",
      "pemangkat found! Appending stats\n",
      "coahuayana found! Appending stats\n",
      "khani found! Appending stats\n",
      "ust-kulom found! Appending stats\n",
      "ahipara found! Appending stats\n",
      "opuwo found! Appending stats\n",
      "joshimath found! Appending stats\n",
      "aswan found! Appending stats\n",
      "kardailovo found! Appending stats\n",
      "saint-louis found! Appending stats\n",
      "kathmandu found! Appending stats\n",
      "ikwiriri found! Appending stats\n",
      "kawalu found! Appending stats\n",
      "cairns found! Appending stats\n",
      "elk city found! Appending stats\n",
      "yashkul found! Appending stats\n",
      "rodna found! Appending stats\n",
      "salalah found! Appending stats\n",
      "acapulco found! Appending stats\n",
      "canberra found! Appending stats\n",
      "mizan teferi found! Appending stats\n",
      "moose factory found! Appending stats\n",
      "port blair found! Appending stats\n",
      "rakiv lis found! Appending stats\n",
      "bastia found! Appending stats\n",
      "mtwara found! Appending stats\n",
      "adrar found! Appending stats\n",
      "magistralnyy found! Appending stats\n",
      "sungairaya found! Appending stats\n",
      "toppenish found! Appending stats\n",
      "middlebury found! Appending stats\n",
      "marsh harbour found! Appending stats\n",
      "tessalit found! Appending stats\n",
      "tiarei found! Appending stats\n",
      "lerwick found! Appending stats\n",
      "axim found! Appending stats\n",
      "santa fe found! Appending stats\n",
      "astana found! Appending stats\n",
      "qasigiannguit found! Appending stats\n",
      "kruisfontein found! Appending stats\n",
      "hokitika found! Appending stats\n",
      "emerald found! Appending stats\n",
      "milkovo found! Appending stats\n",
      "sozimskiy found! Appending stats\n",
      "koslan found! Appending stats\n",
      "hienghene found! Appending stats\n",
      "road town found! Appending stats\n",
      "huron found! Appending stats\n",
      "liku found! Appending stats\n",
      "namibe found! Appending stats\n",
      "emba found! Appending stats\n",
      "orotukan found! Appending stats\n",
      "visnes found! Appending stats\n",
      "sept-iles found! Appending stats\n",
      "arrecife found! Appending stats\n",
      "neftcala found! Appending stats\n",
      "belyy yar found! Appending stats\n",
      "revda found! Appending stats\n",
      "klaksvik found! Appending stats\n",
      "magadan found! Appending stats\n",
      "kautokeino found! Appending stats\n",
      "le port found! Appending stats\n",
      "geraldton found! Appending stats\n",
      "sabha found! Appending stats\n",
      "kichha found! Appending stats\n",
      "valparaiso found! Appending stats\n",
      "santa cruz cabralia found! Appending stats\n",
      "bubaque found! Appending stats\n",
      "yaan found! Appending stats\n",
      "nanaimo found! Appending stats\n",
      "palaia fokaia found! Appending stats\n",
      "buritis found! Appending stats\n",
      "cockburn town found! Appending stats\n",
      "lakatoro found! Appending stats\n",
      "zorritos found! Appending stats\n",
      "saint-joseph found! Appending stats\n",
      "smithers found! Appending stats\n",
      "port macquarie found! Appending stats\n",
      "morris found! Appending stats\n",
      "kailua found! Appending stats\n",
      "kiunga found! Appending stats\n",
      "fukue found! Appending stats\n",
      "tselina found! Appending stats\n",
      "saquarema found! Appending stats\n",
      "stornoway found! Appending stats\n",
      "pirenopolis found! Appending stats\n",
      "cap malheureux found! Appending stats\n",
      "manoel urbano found! Appending stats\n",
      "campo verde found! Appending stats\n",
      "florida found! Appending stats\n",
      "nalut found! Appending stats\n",
      "mailsi found! Appending stats\n",
      "horsham found! Appending stats\n",
      "cabedelo found! Appending stats\n",
      "kattivakkam found! Appending stats\n",
      "port hardy found! Appending stats\n",
      "kitimat found! Appending stats\n",
      "naze found! Appending stats\n",
      "rawlins found! Appending stats\n",
      "elizabeth city found! Appending stats\n",
      "sur found! Appending stats\n",
      "tual found! Appending stats\n"
     ]
    },
    {
     "name": "stdout",
     "output_type": "stream",
     "text": [
      "bulgan found! Appending stats\n",
      "bereda found! Appending stats\n",
      "sandpoint found! Appending stats\n",
      "salvador found! Appending stats\n",
      "cauquenes found! Appending stats\n",
      "ust-nera found! Appending stats\n",
      "honiton found! Appending stats\n",
      "paamiut found! Appending stats\n",
      "bardejov found! Appending stats\n",
      "yakeshi found! Appending stats\n",
      "shingu found! Appending stats\n",
      "bowen found! Appending stats\n",
      "maceio found! Appending stats\n",
      "saurimo found! Appending stats\n",
      "olinda found! Appending stats\n",
      "khor found! Appending stats\n",
      "amga found! Appending stats\n",
      "lamu found! Appending stats\n",
      "yumen found! Appending stats\n",
      "yulara found! Appending stats\n",
      "dunedin found! Appending stats\n",
      "hun found! Appending stats\n",
      "brockville found! Appending stats\n",
      "mecca found! Appending stats\n",
      "salinopolis found! Appending stats\n",
      "birao found! Appending stats\n",
      "rodos found! Appending stats\n",
      "belmonte found! Appending stats\n",
      "columbus found! Appending stats\n",
      "terrytown found! Appending stats\n",
      "tiznit found! Appending stats\n",
      "vyazemskiy found! Appending stats\n",
      "jurm found! Appending stats\n",
      "riyadh found! Appending stats\n",
      "karachev found! Appending stats\n",
      "salym found! Appending stats\n",
      "sembakung found! Appending stats\n",
      "ozernovskiy found! Appending stats\n"
     ]
    }
   ],
   "source": [
    "# set up lists to hold reponse info\n",
    "lat = []\n",
    "temp = []\n",
    "\n",
    "# Loop through the list of cities and perform a request for data on each\n",
    "\n",
    "\n",
    "for city in cities:\n",
    "    response = requests.get(query_url + city).json()\n",
    "    try:\n",
    "\n",
    "        lat.append(response['coord']['lat'])\n",
    "        temp.append(response['main']['temp'])\n",
    "        print(f\"{city} found! Appending stats\")\n",
    "        \n",
    "    except KeyError:\n",
    "        lat.append(\"NAN\")\n",
    "        temp.append(\"NAN\")\n",
    "#       print(\"Oops, that key doesn't exist.\")\n",
    "#        pass\n"
   ]
  },
  {
   "cell_type": "markdown",
   "metadata": {},
   "source": [
    "### Convert Raw Data to DataFrame\n",
    "* Export the city data into a .csv.\n",
    "* Display the DataFrame"
   ]
  },
  {
   "cell_type": "code",
   "execution_count": 6,
   "metadata": {
    "scrolled": true
   },
   "outputs": [
    {
     "data": {
      "text/html": [
       "<div>\n",
       "<style scoped>\n",
       "    .dataframe tbody tr th:only-of-type {\n",
       "        vertical-align: middle;\n",
       "    }\n",
       "\n",
       "    .dataframe tbody tr th {\n",
       "        vertical-align: top;\n",
       "    }\n",
       "\n",
       "    .dataframe thead th {\n",
       "        text-align: right;\n",
       "    }\n",
       "</style>\n",
       "<table border=\"1\" class=\"dataframe\">\n",
       "  <thead>\n",
       "    <tr style=\"text-align: right;\">\n",
       "      <th></th>\n",
       "      <th>City</th>\n",
       "      <th>Temperature</th>\n",
       "      <th>Latitude</th>\n",
       "    </tr>\n",
       "  </thead>\n",
       "  <tbody>\n",
       "    <tr>\n",
       "      <th>0</th>\n",
       "      <td>dikson</td>\n",
       "      <td>14.29</td>\n",
       "      <td>73.51</td>\n",
       "    </tr>\n",
       "    <tr>\n",
       "      <th>1</th>\n",
       "      <td>hermanus</td>\n",
       "      <td>67.39</td>\n",
       "      <td>-34.42</td>\n",
       "    </tr>\n",
       "    <tr>\n",
       "      <th>2</th>\n",
       "      <td>mataura</td>\n",
       "      <td>57.99</td>\n",
       "      <td>-46.19</td>\n",
       "    </tr>\n",
       "    <tr>\n",
       "      <th>3</th>\n",
       "      <td>bambous virieux</td>\n",
       "      <td>77.49</td>\n",
       "      <td>-20.34</td>\n",
       "    </tr>\n",
       "    <tr>\n",
       "      <th>4</th>\n",
       "      <td>taolanaro</td>\n",
       "      <td>NAN</td>\n",
       "      <td>NAN</td>\n",
       "    </tr>\n",
       "    <tr>\n",
       "      <th>...</th>\n",
       "      <td>...</td>\n",
       "      <td>...</td>\n",
       "      <td>...</td>\n",
       "    </tr>\n",
       "    <tr>\n",
       "      <th>587</th>\n",
       "      <td>karachev</td>\n",
       "      <td>33.57</td>\n",
       "      <td>53.12</td>\n",
       "    </tr>\n",
       "    <tr>\n",
       "      <th>588</th>\n",
       "      <td>yusva</td>\n",
       "      <td>NAN</td>\n",
       "      <td>NAN</td>\n",
       "    </tr>\n",
       "    <tr>\n",
       "      <th>589</th>\n",
       "      <td>salym</td>\n",
       "      <td>34.66</td>\n",
       "      <td>60.06</td>\n",
       "    </tr>\n",
       "    <tr>\n",
       "      <th>590</th>\n",
       "      <td>sembakung</td>\n",
       "      <td>73.54</td>\n",
       "      <td>3.82</td>\n",
       "    </tr>\n",
       "    <tr>\n",
       "      <th>591</th>\n",
       "      <td>ozernovskiy</td>\n",
       "      <td>29.19</td>\n",
       "      <td>51.5</td>\n",
       "    </tr>\n",
       "  </tbody>\n",
       "</table>\n",
       "<p>592 rows × 3 columns</p>\n",
       "</div>"
      ],
      "text/plain": [
       "                City Temperature Latitude\n",
       "0             dikson       14.29    73.51\n",
       "1           hermanus       67.39   -34.42\n",
       "2            mataura       57.99   -46.19\n",
       "3    bambous virieux       77.49   -20.34\n",
       "4          taolanaro         NAN      NAN\n",
       "..               ...         ...      ...\n",
       "587         karachev       33.57    53.12\n",
       "588            yusva         NAN      NAN\n",
       "589            salym       34.66    60.06\n",
       "590        sembakung       73.54     3.82\n",
       "591      ozernovskiy       29.19     51.5\n",
       "\n",
       "[592 rows x 3 columns]"
      ]
     },
     "execution_count": 6,
     "metadata": {},
     "output_type": "execute_result"
    }
   ],
   "source": [
    "newcity_df= pd.DataFrame(\n",
    "    {\"City\": cities,\n",
    "    \"Temperature\": temp,\n",
    "    \"Latitude\":lat}\n",
    ")\n",
    "newcity_df"
   ]
  },
  {
   "cell_type": "code",
   "execution_count": 7,
   "metadata": {},
   "outputs": [],
   "source": [
    "# Export file as a CSV, without the Pandas index, but with the header\n",
    "newcity_df.to_csv(\"Output/newcity.csv\", index=False, header=True)"
   ]
  },
  {
   "cell_type": "code",
   "execution_count": 8,
   "metadata": {},
   "outputs": [
    {
     "data": {
      "text/html": [
       "<div>\n",
       "<style scoped>\n",
       "    .dataframe tbody tr th:only-of-type {\n",
       "        vertical-align: middle;\n",
       "    }\n",
       "\n",
       "    .dataframe tbody tr th {\n",
       "        vertical-align: top;\n",
       "    }\n",
       "\n",
       "    .dataframe thead th {\n",
       "        text-align: right;\n",
       "    }\n",
       "</style>\n",
       "<table border=\"1\" class=\"dataframe\">\n",
       "  <thead>\n",
       "    <tr style=\"text-align: right;\">\n",
       "      <th></th>\n",
       "      <th>City</th>\n",
       "      <th>Temperature</th>\n",
       "      <th>Latitude</th>\n",
       "      <th>City_ID</th>\n",
       "      <th>Cloudiness</th>\n",
       "      <th>Country</th>\n",
       "      <th>Date</th>\n",
       "      <th>Humidity</th>\n",
       "      <th>Lat</th>\n",
       "      <th>Lng</th>\n",
       "      <th>Max Temp</th>\n",
       "      <th>Wind Speed</th>\n",
       "    </tr>\n",
       "  </thead>\n",
       "  <tbody>\n",
       "    <tr>\n",
       "      <th>0</th>\n",
       "      <td>dikson</td>\n",
       "      <td>14.29</td>\n",
       "      <td>73.51</td>\n",
       "      <td>66.0</td>\n",
       "      <td>12.0</td>\n",
       "      <td>RU</td>\n",
       "      <td>1.558379e+09</td>\n",
       "      <td>85.0</td>\n",
       "      <td>73.51</td>\n",
       "      <td>80.55</td>\n",
       "      <td>20.22</td>\n",
       "      <td>12.15</td>\n",
       "    </tr>\n",
       "    <tr>\n",
       "      <th>1</th>\n",
       "      <td>hermanus</td>\n",
       "      <td>67.39</td>\n",
       "      <td>-34.42</td>\n",
       "      <td>40.0</td>\n",
       "      <td>9.0</td>\n",
       "      <td>ZA</td>\n",
       "      <td>1.558379e+09</td>\n",
       "      <td>74.0</td>\n",
       "      <td>-34.42</td>\n",
       "      <td>19.24</td>\n",
       "      <td>55.00</td>\n",
       "      <td>23.78</td>\n",
       "    </tr>\n",
       "    <tr>\n",
       "      <th>2</th>\n",
       "      <td>mataura</td>\n",
       "      <td>57.99</td>\n",
       "      <td>-46.19</td>\n",
       "      <td>96.0</td>\n",
       "      <td>58.0</td>\n",
       "      <td>NZ</td>\n",
       "      <td>1.558379e+09</td>\n",
       "      <td>88.0</td>\n",
       "      <td>-46.19</td>\n",
       "      <td>168.86</td>\n",
       "      <td>48.00</td>\n",
       "      <td>1.99</td>\n",
       "    </tr>\n",
       "    <tr>\n",
       "      <th>3</th>\n",
       "      <td>bambous virieux</td>\n",
       "      <td>77.49</td>\n",
       "      <td>-20.34</td>\n",
       "      <td>18.0</td>\n",
       "      <td>75.0</td>\n",
       "      <td>MU</td>\n",
       "      <td>1.558379e+09</td>\n",
       "      <td>74.0</td>\n",
       "      <td>-20.34</td>\n",
       "      <td>57.76</td>\n",
       "      <td>78.80</td>\n",
       "      <td>11.41</td>\n",
       "    </tr>\n",
       "    <tr>\n",
       "      <th>4</th>\n",
       "      <td>taolanaro</td>\n",
       "      <td>NAN</td>\n",
       "      <td>NAN</td>\n",
       "      <td>NaN</td>\n",
       "      <td>NaN</td>\n",
       "      <td>NaN</td>\n",
       "      <td>NaN</td>\n",
       "      <td>NaN</td>\n",
       "      <td>NaN</td>\n",
       "      <td>NaN</td>\n",
       "      <td>NaN</td>\n",
       "      <td>NaN</td>\n",
       "    </tr>\n",
       "    <tr>\n",
       "      <th>...</th>\n",
       "      <td>...</td>\n",
       "      <td>...</td>\n",
       "      <td>...</td>\n",
       "      <td>...</td>\n",
       "      <td>...</td>\n",
       "      <td>...</td>\n",
       "      <td>...</td>\n",
       "      <td>...</td>\n",
       "      <td>...</td>\n",
       "      <td>...</td>\n",
       "      <td>...</td>\n",
       "      <td>...</td>\n",
       "    </tr>\n",
       "    <tr>\n",
       "      <th>928</th>\n",
       "      <td>yabrud</td>\n",
       "      <td>NaN</td>\n",
       "      <td>NaN</td>\n",
       "      <td>543.0</td>\n",
       "      <td>0.0</td>\n",
       "      <td>SY</td>\n",
       "      <td>1.558379e+09</td>\n",
       "      <td>32.0</td>\n",
       "      <td>33.97</td>\n",
       "      <td>36.66</td>\n",
       "      <td>80.60</td>\n",
       "      <td>8.05</td>\n",
       "    </tr>\n",
       "    <tr>\n",
       "      <th>929</th>\n",
       "      <td>paraiso</td>\n",
       "      <td>NaN</td>\n",
       "      <td>NaN</td>\n",
       "      <td>544.0</td>\n",
       "      <td>5.0</td>\n",
       "      <td>MX</td>\n",
       "      <td>1.558379e+09</td>\n",
       "      <td>4.0</td>\n",
       "      <td>24.01</td>\n",
       "      <td>-104.61</td>\n",
       "      <td>84.20</td>\n",
       "      <td>16.11</td>\n",
       "    </tr>\n",
       "    <tr>\n",
       "      <th>930</th>\n",
       "      <td>veraval</td>\n",
       "      <td>NaN</td>\n",
       "      <td>NaN</td>\n",
       "      <td>545.0</td>\n",
       "      <td>0.0</td>\n",
       "      <td>FR</td>\n",
       "      <td>1.558379e+09</td>\n",
       "      <td>62.0</td>\n",
       "      <td>49.65</td>\n",
       "      <td>0.71</td>\n",
       "      <td>61.00</td>\n",
       "      <td>8.05</td>\n",
       "    </tr>\n",
       "    <tr>\n",
       "      <th>931</th>\n",
       "      <td>novyy urgal</td>\n",
       "      <td>NaN</td>\n",
       "      <td>NaN</td>\n",
       "      <td>546.0</td>\n",
       "      <td>100.0</td>\n",
       "      <td>RU</td>\n",
       "      <td>1.558379e+09</td>\n",
       "      <td>93.0</td>\n",
       "      <td>51.07</td>\n",
       "      <td>132.56</td>\n",
       "      <td>49.74</td>\n",
       "      <td>2.68</td>\n",
       "    </tr>\n",
       "    <tr>\n",
       "      <th>932</th>\n",
       "      <td>tongren</td>\n",
       "      <td>NaN</td>\n",
       "      <td>NaN</td>\n",
       "      <td>547.0</td>\n",
       "      <td>4.0</td>\n",
       "      <td>CN</td>\n",
       "      <td>1.558379e+09</td>\n",
       "      <td>64.0</td>\n",
       "      <td>27.72</td>\n",
       "      <td>109.18</td>\n",
       "      <td>55.86</td>\n",
       "      <td>2.84</td>\n",
       "    </tr>\n",
       "  </tbody>\n",
       "</table>\n",
       "<p>933 rows × 12 columns</p>\n",
       "</div>"
      ],
      "text/plain": [
       "                City Temperature Latitude  City_ID  Cloudiness Country  \\\n",
       "0             dikson       14.29    73.51     66.0        12.0      RU   \n",
       "1           hermanus       67.39   -34.42     40.0         9.0      ZA   \n",
       "2            mataura       57.99   -46.19     96.0        58.0      NZ   \n",
       "3    bambous virieux       77.49   -20.34     18.0        75.0      MU   \n",
       "4          taolanaro         NAN      NAN      NaN         NaN     NaN   \n",
       "..               ...         ...      ...      ...         ...     ...   \n",
       "928           yabrud         NaN      NaN    543.0         0.0      SY   \n",
       "929          paraiso         NaN      NaN    544.0         5.0      MX   \n",
       "930          veraval         NaN      NaN    545.0         0.0      FR   \n",
       "931      novyy urgal         NaN      NaN    546.0       100.0      RU   \n",
       "932          tongren         NaN      NaN    547.0         4.0      CN   \n",
       "\n",
       "             Date  Humidity    Lat     Lng  Max Temp  Wind Speed  \n",
       "0    1.558379e+09      85.0  73.51   80.55     20.22       12.15  \n",
       "1    1.558379e+09      74.0 -34.42   19.24     55.00       23.78  \n",
       "2    1.558379e+09      88.0 -46.19  168.86     48.00        1.99  \n",
       "3    1.558379e+09      74.0 -20.34   57.76     78.80       11.41  \n",
       "4             NaN       NaN    NaN     NaN       NaN         NaN  \n",
       "..            ...       ...    ...     ...       ...         ...  \n",
       "928  1.558379e+09      32.0  33.97   36.66     80.60        8.05  \n",
       "929  1.558379e+09       4.0  24.01 -104.61     84.20       16.11  \n",
       "930  1.558379e+09      62.0  49.65    0.71     61.00        8.05  \n",
       "931  1.558379e+09      93.0  51.07  132.56     49.74        2.68  \n",
       "932  1.558379e+09      64.0  27.72  109.18     55.86        2.84  \n",
       "\n",
       "[933 rows x 12 columns]"
      ]
     },
     "execution_count": 8,
     "metadata": {},
     "output_type": "execute_result"
    }
   ],
   "source": [
    "# Combine the data into a single dataset\n",
    "merge_city_df = pd.merge(newcity_df, city_df,\n",
    "                                 how='outer', on='City')\n",
    "merge_city_df"
   ]
  },
  {
   "cell_type": "code",
   "execution_count": 9,
   "metadata": {},
   "outputs": [],
   "source": [
    "# Export file as a CSV, without the Pandas index, but with the header\n",
    "merge_city_df.to_csv(\"Output/mergecity.csv\", index=False, header=True)"
   ]
  },
  {
   "cell_type": "code",
   "execution_count": 10,
   "metadata": {},
   "outputs": [],
   "source": [
    "# Drop all rows with missing information\n",
    "match_city_df = merge_city_df.dropna(how='any')"
   ]
  },
  {
   "cell_type": "code",
   "execution_count": 12,
   "metadata": {},
   "outputs": [],
   "source": [
    "# Export file as a CSV, without the Pandas index, but with the header\n",
    "match_city_df.to_csv(\"Output/matchcity.csv\", index=False, header=True)"
   ]
  },
  {
   "cell_type": "markdown",
   "metadata": {},
   "source": [
    "### Plotting the Data\n",
    "* Use proper labeling of the plots using plot titles (including date of analysis) and axes labels.\n",
    "* Save the plotted figures as .pngs."
   ]
  },
  {
   "cell_type": "markdown",
   "metadata": {},
   "source": [
    "#### Latitude vs. Temperature Plot"
   ]
  },
  {
   "cell_type": "code",
   "execution_count": 13,
   "metadata": {},
   "outputs": [
    {
     "data": {
      "image/png": "[encoded data removed]",
      "text/plain": [
       "<Figure size 432x288 with 1 Axes>"
      ]
     },
     "metadata": {
      "needs_background": "light"
     },
     "output_type": "display_data"
    }
   ],
   "source": [
    "x_values = match_city_df['Latitude']\n",
    "y_values = match_city_df['Temperature']\n",
    "plt.scatter(x_values,y_values)\n",
    "plt.xlabel('Latitude')\n",
    "plt.ylabel('Temperature')\n",
    "plt.title(\"Latitude vs Temperature 04-11-2020\")\n",
    "plt.savefig(\"Images/LatTemp.png\")"
   ]
  },
  {
   "cell_type": "markdown",
   "metadata": {},
   "source": [
    "The scatter plot above shows Temperature on the Y-Axis and Latitude on the X-Axis. It appears as though there's a relationship."
   ]
  },
  {
   "cell_type": "markdown",
   "metadata": {},
   "source": [
    "#### Latitude vs. Humidity Plot"
   ]
  },
  {
   "cell_type": "code",
   "execution_count": 14,
   "metadata": {},
   "outputs": [
    {
     "data": {
      "image/png": "[encoded data removed]",
      "text/plain": [
       "<Figure size 432x288 with 1 Axes>"
      ]
     },
     "metadata": {
      "needs_background": "light"
     },
     "output_type": "display_data"
    }
   ],
   "source": [
    "x_values = match_city_df['Latitude']\n",
    "y_values = match_city_df['Humidity']\n",
    "plt.scatter(x_values,y_values)\n",
    "plt.xlabel('Latitude')\n",
    "plt.ylabel('Humidity')\n",
    "plt.title(\"Latitude vs Humidity 04-11-2020\")\n",
    "plt.savefig(\"Images/LatHumid.png\")"
   ]
  },
  {
   "cell_type": "markdown",
   "metadata": {},
   "source": [
    "The scatter plot above shows Humidity on the Y-Axis and Latitude on the X-Axis. Hard to tell from the plot whether there's a relationship."
   ]
  },
  {
   "cell_type": "markdown",
   "metadata": {},
   "source": [
    "#### Latitude vs. Cloudiness Plot"
   ]
  },
  {
   "cell_type": "code",
   "execution_count": 15,
   "metadata": {},
   "outputs": [
    {
     "data": {
      "image/png": "[encoded data removed]",
      "text/plain": [
       "<Figure size 432x288 with 1 Axes>"
      ]
     },
     "metadata": {
      "needs_background": "light"
     },
     "output_type": "display_data"
    }
   ],
   "source": [
    "x_values = match_city_df['Latitude']\n",
    "y_values = match_city_df['Cloudiness']\n",
    "plt.scatter(x_values,y_values)\n",
    "plt.xlabel('Latitude')\n",
    "plt.ylabel('Cloudiness')\n",
    "plt.title(\"Latitude vs Cloudiness 04-11-2020\")\n",
    "plt.savefig(\"Images/LatCloud.png\")"
   ]
  },
  {
   "cell_type": "markdown",
   "metadata": {},
   "source": [
    "The scatter plot above shows Cloudiness on the Y-Axis and Latitude on the X-Axis. Hard to tell from the plot whether there's a relationship."
   ]
  },
  {
   "cell_type": "markdown",
   "metadata": {},
   "source": [
    "#### Latitude vs. Wind Speed Plot"
   ]
  },
  {
   "cell_type": "code",
   "execution_count": 16,
   "metadata": {},
   "outputs": [
    {
     "data": {
      "image/png": "[encoded data removed]",
      "text/plain": [
       "<Figure size 432x288 with 1 Axes>"
      ]
     },
     "metadata": {
      "needs_background": "light"
     },
     "output_type": "display_data"
    }
   ],
   "source": [
    "x_values = match_city_df['Latitude']\n",
    "y_values = match_city_df['Wind Speed']\n",
    "plt.scatter(x_values,y_values)\n",
    "plt.xlabel('Latitude')\n",
    "plt.ylabel('Wind Speed')\n",
    "plt.title(\"Latitude vs WindSpeed 04-11-2020\")\n",
    "plt.savefig(\"Images/LatWind.png\")"
   ]
  },
  {
   "cell_type": "markdown",
   "metadata": {},
   "source": [
    "The scatter plot above shows Wind Speed on the Y-Axis and Latitude on the X-Axis. There a couple datapoints with low latitude and high wind speeds. Most datapoints appear to be less than 20 Windspeed."
   ]
  },
  {
   "cell_type": "markdown",
   "metadata": {},
   "source": [
    "## Linear Regression"
   ]
  },
  {
   "cell_type": "code",
   "execution_count": null,
   "metadata": {},
   "outputs": [],
   "source": [
    "# OPTIONAL: Create a function to create Linear Regression plots\n"
   ]
  },
  {
   "cell_type": "code",
   "execution_count": 17,
   "metadata": {},
   "outputs": [],
   "source": [
    "# Create Northern and Southern Hemisphere DataFrames\n",
    "northcity_df = city_df.loc[city_df['Lat'] > 0]\n",
    "southcity_df = city_df.loc[city_df['Lat'] < 0]"
   ]
  },
  {
   "cell_type": "code",
   "execution_count": 18,
   "metadata": {},
   "outputs": [],
   "source": [
    "def scatter_plot(x_values, y_values, x_label, ylabel, title, line_loc, png_filepath):\n",
    "    plt.scatter(x_values, y_values, c= \"purple\", edgecolors=\"black\")\n",
    "    plt.xlabel(xlabel)\n",
    "    plt.ylabel(ylabel)\n",
    "    plt.title(title)\n",
    "    (slope, intercept, rvalue, pvalue, stderr) = linregress(x_values, y_values)\n",
    "    regress_values = x_values * slope + intercept\n",
    "    line_eq = \"y = \" + str(round(slope,2)) + \"x + \" + str(round(intercept,2))\n",
    "    plt.plot(x_values,regress_values,\"r-\")\n",
    "    plt.annotate(line_eq,line_loc,fontsize=13,color=\"red\")\n",
    "    correlation = st.pearsonr(x_values,y_values)\n",
    "    print(f\"The correlation between both factors is {round(correlation[0],2)}\")\n",
    "    plt.savefig(png_filepath)\n",
    "    plt.show()"
   ]
  },
  {
   "cell_type": "markdown",
   "metadata": {},
   "source": [
    "####  Northern Hemisphere - Max Temp vs. Latitude Linear Regression"
   ]
  },
  {
   "cell_type": "code",
   "execution_count": 19,
   "metadata": {},
   "outputs": [
    {
     "name": "stdout",
     "output_type": "stream",
     "text": [
      "The correlation between both factors is -0.82\n"
     ]
    },
    {
     "data": {
      "image/png": "[encoded data removed]",
      "text/plain": [
       "<Figure size 432x288 with 1 Axes>"
      ]
     },
     "metadata": {
      "needs_background": "light"
     },
     "output_type": "display_data"
    }
   ],
   "source": [
    "x_values = northcity_df[\"Max Temp\"]\n",
    "y_values = northcity_df[\"Lat\"]\n",
    "xlabel = \"Maximum Temperature\"\n",
    "ylabel = \"Latitide\"\n",
    "title = \"Northern Hemisphere - Max Temp vs. Latitude Linear Regression\"\n",
    "line_loc = (1,0)\n",
    "png_filepath = \"Images/NorthMaxTemp_vs_Lat_Scatter.png\"\n",
    "\n",
    "scatter_plot(x_values, y_values, xlabel, ylabel, title, line_loc, png_filepath)"
   ]
  },
  {
   "cell_type": "markdown",
   "metadata": {},
   "source": [
    "####  Southern Hemisphere - Max Temp vs. Latitude Linear Regression"
   ]
  },
  {
   "cell_type": "code",
   "execution_count": 20,
   "metadata": {},
   "outputs": [
    {
     "name": "stdout",
     "output_type": "stream",
     "text": [
      "The correlation between both factors is 0.76\n"
     ]
    },
    {
     "data": {
      "image/png": "[encoded data removed]",
      "text/plain": [
       "<Figure size 432x288 with 1 Axes>"
      ]
     },
     "metadata": {
      "needs_background": "light"
     },
     "output_type": "display_data"
    }
   ],
   "source": [
    "x_values = southcity_df[\"Max Temp\"]\n",
    "y_values = southcity_df[\"Lat\"]\n",
    "xlabel = \"Maximum Temperature\"\n",
    "ylabel = \"Latitide\"\n",
    "title = \"Southern Hemisphere - Max Temp vs. Latitude Linear Regression\"\n",
    "line_loc = (70,-50)\n",
    "png_filepath = \"Images/SouthMaxTemp_vs_Lat_Scatter.png\"\n",
    "\n",
    "scatter_plot(x_values, y_values, xlabel, ylabel, title, line_loc, png_filepath)"
   ]
  },
  {
   "cell_type": "markdown",
   "metadata": {},
   "source": [
    "####  Northern Hemisphere - Humidity (%) vs. Latitude Linear Regression"
   ]
  },
  {
   "cell_type": "code",
   "execution_count": 21,
   "metadata": {},
   "outputs": [
    {
     "name": "stdout",
     "output_type": "stream",
     "text": [
      "The correlation between both factors is 0.1\n"
     ]
    },
    {
     "data": {
      "image/png": "[encoded data removed]",
      "text/plain": [
       "<Figure size 432x288 with 1 Axes>"
      ]
     },
     "metadata": {
      "needs_background": "light"
     },
     "output_type": "display_data"
    }
   ],
   "source": [
    "x_values = northcity_df[\"Humidity\"]\n",
    "y_values = northcity_df[\"Lat\"]\n",
    "xlabel = \"Humidity\"\n",
    "ylabel = \"Latitide\"\n",
    "title = \"Northern Hemisphere - Humidity vs. Latitude Linear Regression\"\n",
    "line_loc = (1,0)\n",
    "png_filepath = \"Images/NorthHumidTemp_vs_Lat_Scatter.png\"\n",
    "\n",
    "scatter_plot(x_values, y_values, xlabel, ylabel, title, line_loc, png_filepath)"
   ]
  },
  {
   "cell_type": "markdown",
   "metadata": {},
   "source": [
    "####  Southern Hemisphere - Humidity (%) vs. Latitude Linear Regression"
   ]
  },
  {
   "cell_type": "code",
   "execution_count": 22,
   "metadata": {},
   "outputs": [
    {
     "name": "stdout",
     "output_type": "stream",
     "text": [
      "The correlation between both factors is 0.15\n"
     ]
    },
    {
     "data": {
      "image/png": "[encoded data removed]",
      "text/plain": [
       "<Figure size 432x288 with 1 Axes>"
      ]
     },
     "metadata": {
      "needs_background": "light"
     },
     "output_type": "display_data"
    }
   ],
   "source": [
    "x_values = southcity_df[\"Humidity\"]\n",
    "y_values = southcity_df[\"Lat\"]\n",
    "xlabel = \"Humidity\"\n",
    "ylabel = \"Latitide\"\n",
    "title = \"Southern Hemisphere - Humidity vs. Latitude Linear Regression\"\n",
    "line_loc = (150,-50)\n",
    "png_filepath = \"Images/SouthHumidTemp_vs_Lat_Scatter.png\"\n",
    "\n",
    "scatter_plot(x_values, y_values, xlabel, ylabel, title, line_loc, png_filepath)"
   ]
  },
  {
   "cell_type": "markdown",
   "metadata": {},
   "source": [
    "####  Northern Hemisphere - Cloudiness (%) vs. Latitude Linear Regression"
   ]
  },
  {
   "cell_type": "code",
   "execution_count": 29,
   "metadata": {},
   "outputs": [
    {
     "name": "stdout",
     "output_type": "stream",
     "text": [
      "The correlation between both factors is -0.09\n"
     ]
    },
    {
     "data": {
      "image/png": "[encoded data removed]",
      "text/plain": [
       "<Figure size 432x288 with 1 Axes>"
      ]
     },
     "metadata": {
      "needs_background": "light"
     },
     "output_type": "display_data"
    }
   ],
   "source": [
    "x_values = northcity_df[\"Cloudiness\"]\n",
    "y_values = northcity_df[\"Lat\"]\n",
    "xlabel = \"Cloudiness\"\n",
    "ylabel = \"Latitide\"\n",
    "title = \"Northern Hemisphere - Cloudiness vs. Latitude Linear Regression\"\n",
    "line_loc = (30,75)\n",
    "png_filepath = \"Images/NorthCloudTemp_vs_Lat_Scatter.png\"\n",
    "\n",
    "scatter_plot(x_values, y_values, xlabel, ylabel, title, line_loc, png_filepath)"
   ]
  },
  {
   "cell_type": "markdown",
   "metadata": {},
   "source": [
    "####  Southern Hemisphere - Cloudiness (%) vs. Latitude Linear Regression"
   ]
  },
  {
   "cell_type": "code",
   "execution_count": 34,
   "metadata": {},
   "outputs": [
    {
     "name": "stdout",
     "output_type": "stream",
     "text": [
      "The correlation between both factors is 0.22\n"
     ]
    },
    {
     "data": {
      "image/png": "[encoded data removed]",
      "text/plain": [
       "<Figure size 432x288 with 1 Axes>"
      ]
     },
     "metadata": {
      "needs_background": "light"
     },
     "output_type": "display_data"
    }
   ],
   "source": [
    "x_values = southcity_df[\"Cloudiness\"]\n",
    "y_values = southcity_df[\"Lat\"]\n",
    "xlabel = \"Cloudiness\"\n",
    "ylabel = \"Latitide\"\n",
    "title = \"Southern Hemisphere - Cloudiness vs. Latitude Linear Regression\"\n",
    "line_loc = (45,-52)\n",
    "png_filepath = \"Images/SouthCloudTemp_vs_Lat_Scatter.png\"\n",
    "\n",
    "scatter_plot(x_values, y_values, xlabel, ylabel, title, line_loc, png_filepath)"
   ]
  },
  {
   "cell_type": "markdown",
   "metadata": {},
   "source": [
    "####  Northern Hemisphere - Wind Speed (mph) vs. Latitude Linear Regression"
   ]
  },
  {
   "cell_type": "code",
   "execution_count": 25,
   "metadata": {},
   "outputs": [
    {
     "name": "stdout",
     "output_type": "stream",
     "text": [
      "The correlation between both factors is 0.11\n"
     ]
    },
    {
     "data": {
      "image/png": "[encoded data removed]",
      "text/plain": [
       "<Figure size 432x288 with 1 Axes>"
      ]
     },
     "metadata": {
      "needs_background": "light"
     },
     "output_type": "display_data"
    }
   ],
   "source": [
    "x_values = northcity_df[\"Wind Speed\"]\n",
    "y_values = northcity_df[\"Lat\"]\n",
    "xlabel = \"Wind Speed (MPH)\"\n",
    "ylabel = \"Latitide\"\n",
    "title = \"Northern Hemisphere - Wind Speed (MPH) vs. Latitude Linear Regression\"\n",
    "line_loc = (20,0)\n",
    "png_filepath = \"Images/NorthWindTemp_vs_Lat_Scatter.png\"\n",
    "\n",
    "scatter_plot(x_values, y_values, xlabel, ylabel, title, line_loc, png_filepath)"
   ]
  },
  {
   "cell_type": "markdown",
   "metadata": {},
   "source": [
    "####  Southern Hemisphere - Wind Speed (mph) vs. Latitude Linear Regression"
   ]
  },
  {
   "cell_type": "code",
   "execution_count": 36,
   "metadata": {},
   "outputs": [
    {
     "name": "stdout",
     "output_type": "stream",
     "text": [
      "The correlation between both factors is -0.32\n"
     ]
    },
    {
     "data": {
      "image/png": "[encoded data removed]",
      "text/plain": [
       "<Figure size 432x288 with 1 Axes>"
      ]
     },
     "metadata": {
      "needs_background": "light"
     },
     "output_type": "display_data"
    }
   ],
   "source": [
    "x_values = southcity_df[\"Wind Speed\"]\n",
    "y_values = southcity_df[\"Lat\"]\n",
    "xlabel = \"Wind Speed (MPH)\"\n",
    "ylabel = \"Latitide\"\n",
    "title = \"Southern Hemisphere - Wind Speed (MPH) vs. Latitude Linear Regression\"\n",
    "line_loc = (20,-10)\n",
    "png_filepath = \"Images/SouthWindTemp_vs_Lat_Scatter.png\"\n",
    "\n",
    "scatter_plot(x_values, y_values, xlabel, ylabel, title, line_loc, png_filepath)"
   ]
  },
  {
   "cell_type": "code",
   "execution_count": 37,
   "metadata": {},
   "outputs": [],
   "source": [
    "# Export file as a CSV, without the Pandas index, but with the header\n",
    "northcity_df.to_csv(\"Output/Northcity.csv\", index=False, header=True)"
   ]
  },
  {
   "cell_type": "code",
   "execution_count": 38,
   "metadata": {},
   "outputs": [],
   "source": [
    "# Export file as a CSV, without the Pandas index, but with the header\n",
    "southcity_df.to_csv(\"Output/Southcity.csv\", index=False, header=True)"
   ]
  },
  {
   "cell_type": "markdown",
   "metadata": {},
   "source": [
    "Observable Trends:\n",
    "#1 Latitude and Max Temperature have a strong correlations. In the northern hemisphere, its an inverse relationship. As Latitude decreases, temperatures rise. The opposite is true in the southern hemisphere. As Latitude decreases, temperature also decreases\n",
    "\n",
    "#2 Latitude vs Wind speed, Cloudiness, or Humidity showed weak or almost no correlation at all. Only Wind Speed vs Latitude had a correlation factor of -0.32. The other 5 were between -0.3 and 0.3\n",
    "\n",
    "#3 The API pull of the current temperatures were in line with observable trend #1. Negative Latitudes increased temperature as they increased towards 0 latitude (positive relationship). Positive Latitudes also increased temperature as they decreased towards 0 latitude (inverse relationship)."
   ]
  }
 ],
 "metadata": {
  "anaconda-cloud": {},
  "kernel_info": {
   "name": "python3"
  },
  "kernelspec": {
   "display_name": "Python 3",
   "language": "python",
   "name": "python3"
  },
  "language_info": {
   "codemirror_mode": {
    "name": "ipython",
    "version": 3
   },
   "file_extension": ".py",
   "mimetype": "text/x-python",
   "name": "python",
   "nbconvert_exporter": "python",
   "pygments_lexer": "ipython3",
   "version": "3.6.10"
  },
  "latex_envs": {
   "LaTeX_envs_menu_present": true,
   "autoclose": false,
   "autocomplete": true,
   "bibliofile": "biblio.bib",
   "cite_by": "apalike",
   "current_citInitial": 1,
   "eqLabelWithNumbers": true,
   "eqNumInitial": 1,
   "hotkeys": {
    "equation": "Ctrl-E",
    "itemize": "Ctrl-I"
   },
   "labels_anchors": false,
   "latex_user_defs": false,
   "report_style_numbering": false,
   "user_envs_cfg": false
  },
  "nteract": {
   "version": "0.12.3"
  }
 },
 "nbformat": 4,
 "nbformat_minor": 2
}
